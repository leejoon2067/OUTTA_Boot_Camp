{
 "cells": [
  {
   "cell_type": "markdown",
   "id": "d396d213",
   "metadata": {},
   "source": [
    "# 기초상품 추천 코드 구현해보기\n",
    "주어진 데이터를 활용하여 유저 아이디와 원하는 제품 유형을 입력하면   \n",
    "해당 유저와 유사도가 높은 유저의 평점 높은 제품을 추천해주는 함수 만들기\n",
    "\n",
    "* 유저데이터 파일명 : user_data\n",
    "* 제품데이터 파일명 : product_data"
   ]
  },
  {
   "cell_type": "code",
   "execution_count": null,
   "id": "c06407f3",
   "metadata": {},
   "outputs": [],
   "source": [
    "import pandas as pd\n",
    "\n",
    "#유저데이터 불러오기\n",
    "u_data = pd.read_csv(\"user_data\")\n",
    "\n",
    "#제품데이터 불러오기\n",
    "p_data = pd.read_csv('product_data')"
   ]
  },
  {
   "cell_type": "code",
   "execution_count": null,
   "id": "1b0da254",
   "metadata": {},
   "outputs": [],
   "source": [
    "#product_id 기준으로 유저,제품 데이터 합쳐서 df에 저장하고 user_id를 기준으로 오름차순 정렬\n",
    "df = u_data.merge(p_data, on='product_id', how='inner')\n",
    "df = df.sort_values(by='user_id', ascending=True)\n",
    "df.head()"
   ]
  },
  {
   "cell_type": "code",
   "execution_count": null,
   "id": "2d2826d2",
   "metadata": {},
   "outputs": [],
   "source": [
    "#각 유저가 제품에 남긴 평점들로 이루어진 데이터 프레임(df_users) 만들기 인덱스:user_id, 컬럼명:product_id\n",
    "df_users = df.pivot(index='user_id', columns='product_id', values='rating')\n",
    "df_users.fillna(0, inplace=True)\n",
    "df_users.head()"
   ]
  },
  {
   "cell_type": "code",
   "execution_count": null,
   "id": "bf0fe1d7",
   "metadata": {},
   "outputs": [],
   "source": [
    "#유저간 유사도 계산\n",
    "from sklearn.metrics.pairwise import cosine_similarity\n",
    "cos_matrix = cosine_similarity(df_users)\n",
    "cos_matrix"
   ]
  },
  {
   "cell_type": "code",
   "execution_count": null,
   "id": "88ddd9bc",
   "metadata": {},
   "outputs": [],
   "source": [
    "#위에서 계산한 cos_matrix를 데이터프레임으로 만듭니다. \n",
    "df_users_cosine= pd.DataFrame(cos_matrix)\n",
    "df_users_cosine.head()"
   ]
  },
  {
   "cell_type": "markdown",
   "id": "f77a8274",
   "metadata": {},
   "source": [
    "## 입력한 아이디의 유저와 비슷한 유저가 만족한 제품 추천하는 함수 만들기\n",
    "1. df_users_cosine에서 입력한 아이디와 유사도 높은 5명을 sim_users로 지정\n",
    "2. df에서 user_id가 sim_users의 인덱스와 일치하는 값들을 sim_user_df에 할당\n",
    "3. sim_user_df에서 입력한 product_type과 일치하는 값들을 지정하고 rating을 기준으로 내림차순한 결과를 products에 할당\n",
    "4. products에서 rating 4점 이상인 값들만 다시 products에 할당\n",
    "5. products에서 product_name이 중복인 것은 첫번째 값만 남김\n",
    "6. products의 product_name을 데이터 프레임 result로 만듦 (컬럼명은 나와 비슷한 사용자가 만족한(입력한 제품타입)제품)\n",
    "7. 함수 마지막에 print(result) 출력"
   ]
  },
  {
   "cell_type": "code",
   "execution_count": null,
   "id": "320ad857",
   "metadata": {},
   "outputs": [],
   "source": [
    "#반드시 skeleton 코드에 맞춰서 작성하지 않아도 됨. 단, 작성한 코드에 대해 어떤 알고리즘으로 결과가 나오게 했는지 설명할 수 있어야함. \n",
    "\n",
    "def user_based_recommend(user_id, product_type):\n",
    "    #코사인 유사도 행렬에서 전달받은 user_id의 행을 선택했다. 그리고 1~6번째 인덱스까지 5명을 내림차순으로 정렬했다. \n",
    "    # sim_users = df_users_cosine.loc[user_id].sort_values(ascending=False)[1:6].index.tolist()\n",
    "    \n",
    "    #유저들 간 일치하는 값에 따라 새로운 데이터프레임을 생성하였다.\n",
    "    # sim_user_df = df[df['user_id'].isin(sim_users)]\n",
    "    \n",
    "    #제품의 타입과 관련된 제품을 뽑아내고 내림차순으로 정렬한 다음, products에 다시 할당했다.\n",
    "    # products = sim_user_df[sim_user_df['product_type'] == product_type].sort_values(by='rating', ascending=False)\n",
    "    \n",
    "    \n",
    "    #별점이 4점 이상인 제품만 따로 추출했다.\n",
    "    # products = products[products['rating'] >= 4]\n",
    "    \n",
    "    #drop_duplicates를 통해 중복된 값을 가진 행을 빼고 다시 할당했다. \n",
    "    # products = products.drop_duplicates(subset = ['product_name'])\n",
    "\n",
    "    # result = pd.DataFrame({f\"나와 비슷한 사용자가 만족한 {product_type}제품\": products['product_name'].tolist()})\n",
    "    \n",
    "    print(result)\n"
   ]
  },
  {
   "cell_type": "code",
   "execution_count": null,
   "id": "d9dba7f2",
   "metadata": {},
   "outputs": [],
   "source": [
    "recommended_products = user_based_recommend(1, '앰플')"
   ]
  }
 ],
 "metadata": {
  "kernelspec": {
   "display_name": "Python 3 (ipykernel)",
   "language": "python",
   "name": "python3"
  },
  "language_info": {
   "codemirror_mode": {
    "name": "ipython",
    "version": 3
   },
   "file_extension": ".py",
   "mimetype": "text/x-python",
   "name": "python",
   "nbconvert_exporter": "python",
   "pygments_lexer": "ipython3",
   "version": "3.10.9"
  }
 },
 "nbformat": 4,
 "nbformat_minor": 5
}
